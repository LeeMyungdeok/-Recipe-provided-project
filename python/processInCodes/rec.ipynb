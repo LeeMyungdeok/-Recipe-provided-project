{
 "cells": [
  {
   "cell_type": "code",
   "execution_count": 2,
   "metadata": {},
   "outputs": [],
   "source": [
    "import pandas as pd\n",
    "import urllib.request\n",
    "import json\n",
    "from bs4 import BeautifulSoup\n",
    "from selenium import webdriver\n",
    "import chromedriver_autoinstaller\n",
    "from selenium.webdriver.chrome.options import Options  \n",
    "import sys"
   ]
  },
  {
   "cell_type": "code",
   "execution_count": 32,
   "metadata": {},
   "outputs": [
    {
     "name": "stdout",
     "output_type": "stream",
     "text": [
      "type1 패스\n",
      "name 패스\n",
      "year 패스\n",
      "servingsize 포맷\n",
      "unit 패스\n",
      "kcal 포맷\n"
     ]
    }
   ],
   "source": [
    "file_path = \"aa_Food.json\"\n",
    "with open(file_path, 'r') as file:\n",
    "    data = json.load(file)\n",
    "    df = pd.DataFrame(data[\"Food\"])\n",
    "    new_Data = df[[\"type1\", \"name\", \"year\", \"servingsize\", \"unit\", \"kcal\"]]\n",
    "    set_food = new_Data.drop_duplicates([\"name\"], keep = 'last')\n",
    "    set_food = set_food[set_food[\"type1\"] != \"가공식품\"].reset_index(drop=True)\n",
    "set_food = set_food[set_food[\"kcal\"] != \"-\"].reset_index(drop=True)\n",
    "for _ in set_food.columns:\n",
    "    if (_ == 'kcal') or (_ == 'servingsize'):\n",
    "        set_food = set_food.astype({ _ : 'float'}) \n",
    "        print(f'{_} 포맷')\n",
    "    else:\n",
    "        print(f\"{_} 패스\")\n",
    "cnt = 0\n",
    "for i in set_food[\"unit\"]:\n",
    "    if i == \"g\" or i == \"mL\":\n",
    "        score = set_food.loc[cnt, \"servingsize\"]\n",
    "        score_change = 100 / score\n",
    "        kal = set_food.loc[cnt,\"kcal\"]\n",
    "        ser = set_food.loc[cnt,\"servingsize\"]\n",
    "        \n",
    "        set_food.loc[cnt,\"kcal\"] = kal * score_change\n",
    "        set_food.loc[cnt,\"servingsize\"] = ser * score_change\n",
    "    else:\n",
    "        pass\n",
    "    cnt += 1\n",
    "set_food = set_food.round()\n",
    "set_food = set_food.astype({ \"servingsize\" : 'int'})\n",
    "for _ in range(len(set_food.index)):\n",
    "    set_food[\"1회제공량\"] = str(set_food[\"servingsize\"][_]) + str(set_food[\"unit\"][_])\n",
    "    \n",
    "set_food[\"1회제공량\"]\n",
    "set_food.drop([\"servingsize\",\"unit\"], axis= 1, inplace=True)"
   ]
  },
  {
   "cell_type": "code",
   "execution_count": 33,
   "metadata": {},
   "outputs": [],
   "source": [
    "file_path = \"aa_Food.json\"\n",
    "with open(file_path, 'r') as file:\n",
    "    data = json.load(file)\n",
    "    df = pd.DataFrame(data[\"Food\"])\n",
    "    new_Data = df[[\"type1\", \"name\", \"year\", \"servingsize\", \"unit\", \"kcal\"]]\n",
    "    new_Data = new_Data.sort_values(\"year\")\n",
    "    set_food = new_Data.drop_duplicates([\"name\"], keep = 'last')\n",
    "    set_food = set_food[set_food[\"type1\"] != \"가공식품\"].reset_index(drop=True)\n",
    "    set_food = set_food[set_food[\"kcal\"] != \"-\"].reset_index(drop=True) "
   ]
  },
  {
   "cell_type": "code",
   "execution_count": null,
   "metadata": {},
   "outputs": [],
   "source": [
    "for _ in set_food.columns:\n",
    "    if (_ == 'kcal') or (_ == 'servingsize'):\n",
    "        set_food = set_food.astype({ _ : 'float'}) \n",
    "        print(f'{_} 포맷')\n",
    "    else:\n",
    "        print(f\"{_} 패스\")\n",
    "        \n",
    "set_food.info()"
   ]
  }
 ],
 "metadata": {
  "kernelspec": {
   "display_name": "Python 3",
   "language": "python",
   "name": "python3"
  },
  "language_info": {
   "codemirror_mode": {
    "name": "ipython",
    "version": 3
   },
   "file_extension": ".py",
   "mimetype": "text/x-python",
   "name": "python",
   "nbconvert_exporter": "python",
   "pygments_lexer": "ipython3",
   "version": "3.10.6"
  },
  "orig_nbformat": 4
 },
 "nbformat": 4,
 "nbformat_minor": 2
}
